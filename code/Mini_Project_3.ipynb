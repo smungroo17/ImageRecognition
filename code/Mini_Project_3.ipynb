{
  "nbformat": 4,
  "nbformat_minor": 0,
  "metadata": {
    "colab": {
      "name": "Mini Project 3.ipynb",
      "provenance": [],
      "collapsed_sections": []
    },
    "kernelspec": {
      "display_name": "Python 3",
      "name": "python3"
    },
    "accelerator": "GPU"
  },
  "cells": [
    {
      "cell_type": "code",
      "metadata": {
        "id": "B2Qn9VrW5-FL"
      },
      "source": [
        "import math\n",
        "import h5py\n",
        "import numpy as np\n",
        "import matplotlib.pyplot as plt\n",
        "import torch\n",
        "from torch import nn, optim\n",
        "import torch.nn.functional as func\n",
        "from torch.utils.data import TensorDataset, DataLoader, random_split, Dataset\n",
        "from torchvision import transforms"
      ],
      "execution_count": 1,
      "outputs": []
    },
    {
      "cell_type": "markdown",
      "metadata": {
        "id": "-uSqsaVsnIFz"
      },
      "source": [
        "The python code below will unzip the data zipfile and load it into memory automatically. You only need to set the correct path to the zipfile."
      ]
    },
    {
      "cell_type": "code",
      "metadata": {
        "id": "6OnUi0tNNMg0"
      },
      "source": [
        "import zipfile\n",
        "with zipfile.ZipFile(\"/content/MNIST_synthetic.zip\") as zip_ref:\n",
        "    zip_ref.extractall(\"/content/mnist\")"
      ],
      "execution_count": 2,
      "outputs": []
    },
    {
      "cell_type": "code",
      "metadata": {
        "id": "Hs2Ycq2A9T7J"
      },
      "source": [
        "f = h5py.File('/content/mnist/MNIST_synthetic.h5', 'r')"
      ],
      "execution_count": 3,
      "outputs": []
    },
    {
      "cell_type": "code",
      "metadata": {
        "id": "FRmFtdxw-2KM"
      },
      "source": [
        "train_input = torch.from_numpy(np.array(f['train_dataset'], dtype=np.float32).reshape((-1, 1, 64, 64)) / 255)\n",
        "train_labels = torch.from_numpy(np.array(f['train_labels'], dtype=np.long))\n",
        "test_input = torch.from_numpy(np.array(f['test_dataset'], dtype=np.float32).reshape((-1, 1, 64, 64)) / 255)"
      ],
      "execution_count": 32,
      "outputs": []
    },
    {
      "cell_type": "code",
      "metadata": {
        "id": "xhCXkiFd-d21"
      },
      "source": [
        "class TrainDataset(Dataset):\n",
        "    def __init__(self, train_input, train_labels):\n",
        "        self.train_input = train_input\n",
        "        self.train_labels = train_labels\n",
        "    \n",
        "    def __len__(self):\n",
        "        return self.train_input.shape[0]\n",
        "    \n",
        "    def __getitem__(self, idx):\n",
        "        return self.train_input[idx], self.train_labels[idx]\n",
        "\n",
        "class TestDataset(Dataset):\n",
        "    def __init__(self, test_input):\n",
        "        self.test_input = test_input\n",
        "\n",
        "    def __len__(self):\n",
        "        return self.test_input.shape[0]\n",
        "\n",
        "    def __getitem__(self, idx):\n",
        "        return self.test_input[idx]"
      ],
      "execution_count": 6,
      "outputs": []
    },
    {
      "cell_type": "code",
      "metadata": {
        "id": "jXX7_g8RHO2q"
      },
      "source": [
        "train_dataset = TrainDataset(train_input, train_labels)\n",
        "test_dataset = TestDataset(test_input)\n",
        "\n",
        "n_val = int(0.15 * len(train_dataset))\n",
        "train, val = random_split(train_dataset, [len(train_dataset) - n_val, n_val], generator=torch.Generator().manual_seed(10))\n",
        "\n",
        "train_loader = DataLoader(train, batch_size=32, shuffle=True, num_workers=0)\n",
        "val_loader = DataLoader(val, batch_size=1024)\n",
        "test_loader = DataLoader(test_dataset, batch_size=1024, num_workers=0)"
      ],
      "execution_count": 34,
      "outputs": []
    },
    {
      "cell_type": "markdown",
      "metadata": {
        "id": "pOAkwKNDqnQo"
      },
      "source": [
        "Example of an image"
      ]
    },
    {
      "cell_type": "code",
      "metadata": {
        "colab": {
          "base_uri": "https://localhost:8080/",
          "height": 305
        },
        "id": "2SGodv-p_fht",
        "outputId": "d1f89b2b-267b-464f-b88d-8ced9151c714"
      },
      "source": [
        "img, lbl = next(iter(train_loader))\n",
        "print(img.shape)\n",
        "plt.imshow(np.array(img[0][0].reshape((64,64))))"
      ],
      "execution_count": 19,
      "outputs": [
        {
          "output_type": "stream",
          "text": [
            "torch.Size([32, 1, 64, 64])\n"
          ],
          "name": "stdout"
        },
        {
          "output_type": "execute_result",
          "data": {
            "text/plain": [
              "<matplotlib.image.AxesImage at 0x7fdc9f7ccc50>"
            ]
          },
          "metadata": {
            "tags": []
          },
          "execution_count": 19
        },
        {
          "output_type": "display_data",
          "data": {
            "image/png": "[encoded data removed]",
            "text/plain": [
              "<Figure size 432x288 with 1 Axes>"
            ]
          },
          "metadata": {
            "tags": [],
            "needs_background": "light"
          }
        }
      ]
    },
    {
      "cell_type": "markdown",
      "metadata": {
        "id": "NIlxs4EhqrK6"
      },
      "source": [
        "The GPU being used"
      ]
    },
    {
      "cell_type": "code",
      "metadata": {
        "colab": {
          "base_uri": "https://localhost:8080/"
        },
        "id": "ixZM3LxcNajd",
        "outputId": "5fef64d2-867c-46c1-fa5e-d5197b6b18fa"
      },
      "source": [
        "print(torch.cuda.device_count())\n",
        "print(torch.cuda.get_device_name(0))"
      ],
      "execution_count": 20,
      "outputs": [
        {
          "output_type": "stream",
          "text": [
            "1\n",
            "Tesla V100-SXM2-16GB\n"
          ],
          "name": "stdout"
        }
      ]
    },
    {
      "cell_type": "markdown",
      "metadata": {
        "id": "VFc-4K-ctHsd"
      },
      "source": [
        "The basic building block to our residual network"
      ]
    },
    {
      "cell_type": "code",
      "metadata": {
        "id": "bBHHyH_iJ1UW"
      },
      "source": [
        "#inspired by the pytorch resnet model https://github.com/pytorch/vision/blob/aa753263b8e7b3180225e3ad1e6e5434a5f42882/torchvision/models/resnet.py#L37\n",
        "\n",
        "class ResBlock(nn.Module):\n",
        "    def __init__(self, channels_in, channels_out, stride=1, downsample=False):\n",
        "        super(ResBlock, self).__init__()\n",
        "        self.conv1 = nn.Conv2d(channels_in, channels_out, kernel_size=3, stride=stride, padding=1, bias=True)\n",
        "        self.bn1 = nn.BatchNorm2d(channels_out)\n",
        "        self.relu = nn.ReLU(inplace=True)\n",
        "        self.bnId = nn.BatchNorm2d(channels_out)\n",
        "        self.downsample = downsample\n",
        "        self.downsampler = nn.Conv2d(channels_in, channels_out, kernel_size=1, stride=2, bias=False)\n",
        "    \n",
        "    def forward(self, x):\n",
        "        id = x\n",
        "        x = self.conv1(x)\n",
        "        x = self.bn1(x)\n",
        "\n",
        "        if self.downsample:\n",
        "            id = self.downsampler(id)\n",
        "            id = self.bnId(id)\n",
        "    \n",
        "        x += id\n",
        "        x = self.relu(x)\n",
        "        return x"
      ],
      "execution_count": 25,
      "outputs": []
    },
    {
      "cell_type": "markdown",
      "metadata": {
        "id": "M1lWZfDTtMAf"
      },
      "source": [
        "Our architecture"
      ]
    },
    {
      "cell_type": "code",
      "metadata": {
        "id": "JlKrhSyOlg3w"
      },
      "source": [
        "class Net(nn.Module):\n",
        "    def __init__(self):\n",
        "        super(Net, self).__init__()\n",
        "        self.b1 = ResBlock(1, 32)\n",
        "        self.b12 = ResBlock(32, 32)\n",
        "\n",
        "        self.b2 = ResBlock(32, 64, stride=2, downsample=True)  # 32x32\n",
        "        self.b22 = ResBlock(64, 64)\n",
        "        self.b23 = ResBlock(64, 64)\n",
        "        self.b24 = ResBlock(64, 64)\n",
        "        self.b25 = ResBlock(64, 64)\n",
        "        self.b26 = ResBlock(64, 64)\n",
        "\n",
        "        self.b3 = ResBlock(64, 128, stride=2, downsample=True)  # 16x16\n",
        "        self.b32 = ResBlock(128, 128)\n",
        "        self.b33 = ResBlock(128, 128)\n",
        "        self.b34 = ResBlock(128, 128)\n",
        "        self.b35 = ResBlock(128, 128)\n",
        "\n",
        "        self.avg = nn.AdaptiveAvgPool2d((1,1))\n",
        "        self.fc = nn.Linear(128 * 1 * 1, 11 * 5)\n",
        "    \n",
        "    def forward(self, x):\n",
        "        x = self.b1(x)\n",
        "        x = self.b12(x)\n",
        "\n",
        "        x = self.b2(x)\n",
        "        x = self.b22(x)\n",
        "        x = self.b23(x)\n",
        "        x = self.b24(x)\n",
        "        x = self.b25(x)\n",
        "        x = self.b26(x)\n",
        "\n",
        "        x = self.b3(x)\n",
        "        x = self.b32(x)\n",
        "        x = self.b33(x)\n",
        "        x = self.b34(x)\n",
        "        x = self.b35(x)\n",
        "\n",
        "        x = self.avg(x)\n",
        "        x = x.view(-1, 128 * 1 * 1)\n",
        "        x = self.fc(x)\n",
        "        return x\n",
        "\n",
        "net = Net().cuda()"
      ],
      "execution_count": 26,
      "outputs": []
    },
    {
      "cell_type": "markdown",
      "metadata": {
        "id": "BKhUzTaTtSyA"
      },
      "source": [
        "SGD optimizer with a scheduler that reduces the learning rate whenever the accuracy doesn't improve for 3 epochs."
      ]
    },
    {
      "cell_type": "code",
      "metadata": {
        "id": "VlGf67n3Yq_p"
      },
      "source": [
        "# Define optimizers\n",
        "optimizer = optim.SGD(net.parameters(), lr=1e-2, momentum=0.9)\n",
        "scheduler = optim.lr_scheduler.ReduceLROnPlateau(optimizer, 'max', factor=.90,patience=3, threshold=.01, verbose=False)\n",
        "# Define the loss\n",
        "loss = nn.CrossEntropyLoss()"
      ],
      "execution_count": 27,
      "outputs": []
    },
    {
      "cell_type": "code",
      "metadata": {
        "colab": {
          "base_uri": "https://localhost:8080/"
        },
        "id": "2X76JTCQdKB2",
        "outputId": "a82813a8-880d-4561-c9e8-fa99ed8f9869"
      },
      "source": [
        "# Training and validation loop\n",
        "n_epochs = 50\n",
        "accuracies = []\n",
        "train_accuracies = []\n",
        "best_net_state = None\n",
        "best_accuracy = 0\n",
        "for epoch in range(n_epochs):\n",
        "    net.train()\n",
        "    train_losses = []\n",
        "    train_total = 0\n",
        "    train_correct = 0\n",
        "    for batch in train_loader:\n",
        "        x, y = batch\n",
        "        x, y = x.cuda(), y.cuda()\n",
        "        # logits\n",
        "        l = net(x)\n",
        "        # loss\n",
        "        #   for multi-label-multi-class, cross entropy needs the input to be of shape (batchsize, nClasses, nLabels)\n",
        "        #   so we make a view of shape (batchsize, nLabels, nClasses) and transpose on axis 1 and 2.\n",
        "        j = loss(l.view(-1, 5, 11).transpose(1, 2), y)\n",
        "        # Training accuracy\n",
        "        with torch.no_grad():\n",
        "            y_hat = torch.argmax(l.view(-1, 5, 11), dim=-1)\n",
        "            train_total += y_hat.size(0)\n",
        "            train_correct += (y_hat == y).all(-1).sum().item()\n",
        "        # reset gradient\n",
        "        optimizer.zero_grad()\n",
        "        # caculate gradient\n",
        "        j.backward()\n",
        "        # update parameter weights\n",
        "        optimizer.step()\n",
        "        # add loss for this epoch\n",
        "        train_losses.append(j.item())\n",
        "    train_accuracies.append(100 * train_correct / train_total)\n",
        "\n",
        "    # Validation\n",
        "    net.eval()\n",
        "    correct = 0\n",
        "    total = 0\n",
        "    with torch.no_grad():\n",
        "        for batch in val_loader:\n",
        "            x, y = batch\n",
        "            x = x.cuda()\n",
        "            outputs = net(x).cpu()\n",
        "            y_hat = torch.argmax(outputs.view(-1, 5, 11), dim=-1)\n",
        "            total += y_hat.size(0)\n",
        "            correct += (y_hat == y).all(-1).sum().item()\n",
        "    accuracy = 100 * correct / total\n",
        "    if accuracy > best_accuracy:\n",
        "        best_accuracy = accuracy\n",
        "        best_net_state = net.state_dict()\n",
        "    print(f'Epoch {epoch + 1}, train loss: {np.array(train_losses).mean():.6f}, val acc: {accuracy:.3f}')\n",
        "    accuracies.append(accuracy)\n",
        "    scheduler.step(accuracy)\n",
        "\n",
        "print(f\"Best accuracy: {best_accuracy}\")"
      ],
      "execution_count": 28,
      "outputs": [
        {
          "output_type": "stream",
          "text": [
            "Epoch 1, train loss: 0.801602, val acc: 60.143\n",
            "Epoch 2, train loss: 0.190099, val acc: 64.738\n",
            "Epoch 3, train loss: 0.053128, val acc: 83.167\n",
            "Epoch 4, train loss: 0.030108, val acc: 96.262\n",
            "Epoch 5, train loss: 0.020094, val acc: 98.000\n",
            "Epoch 6, train loss: 0.014746, val acc: 95.071\n",
            "Epoch 7, train loss: 0.010920, val acc: 72.321\n",
            "Epoch 8, train loss: 0.008278, val acc: 97.940\n",
            "Epoch 9, train loss: 0.007322, val acc: 98.762\n",
            "Epoch 10, train loss: 0.003645, val acc: 99.250\n",
            "Epoch 11, train loss: 0.002422, val acc: 98.869\n",
            "Epoch 12, train loss: 0.002185, val acc: 99.321\n",
            "Epoch 13, train loss: 0.002213, val acc: 99.250\n",
            "Epoch 14, train loss: 0.001407, val acc: 99.429\n",
            "Epoch 15, train loss: 0.001026, val acc: 99.500\n",
            "Epoch 16, train loss: 0.000685, val acc: 99.619\n",
            "Epoch 17, train loss: 0.000587, val acc: 99.643\n",
            "Epoch 18, train loss: 0.000510, val acc: 99.667\n",
            "Epoch 19, train loss: 0.000478, val acc: 99.667\n",
            "Epoch 20, train loss: 0.000441, val acc: 99.714\n",
            "Epoch 21, train loss: 0.000396, val acc: 99.667\n",
            "Epoch 22, train loss: 0.000385, val acc: 99.655\n",
            "Epoch 23, train loss: 0.000348, val acc: 99.690\n",
            "Epoch 24, train loss: 0.000341, val acc: 99.690\n",
            "Epoch 25, train loss: 0.000321, val acc: 99.702\n",
            "Epoch 26, train loss: 0.000318, val acc: 99.667\n",
            "Epoch 27, train loss: 0.000310, val acc: 99.679\n",
            "Epoch 28, train loss: 0.000296, val acc: 99.667\n",
            "Epoch 29, train loss: 0.000281, val acc: 99.679\n",
            "Epoch 30, train loss: 0.000279, val acc: 99.690\n",
            "Epoch 31, train loss: 0.000278, val acc: 99.714\n",
            "Epoch 32, train loss: 0.000263, val acc: 99.679\n",
            "Epoch 33, train loss: 0.000254, val acc: 99.702\n",
            "Epoch 34, train loss: 0.000252, val acc: 99.667\n",
            "Epoch 35, train loss: 0.000245, val acc: 99.690\n",
            "Epoch 36, train loss: 0.000239, val acc: 99.679\n",
            "Epoch 37, train loss: 0.000242, val acc: 99.667\n",
            "Epoch 38, train loss: 0.000238, val acc: 99.714\n",
            "Epoch 39, train loss: 0.000233, val acc: 99.655\n",
            "Epoch 40, train loss: 0.000231, val acc: 99.667\n",
            "Epoch 41, train loss: 0.000221, val acc: 99.655\n",
            "Epoch 42, train loss: 0.000222, val acc: 99.702\n",
            "Epoch 43, train loss: 0.000214, val acc: 99.702\n",
            "Epoch 44, train loss: 0.000212, val acc: 99.690\n",
            "Epoch 45, train loss: 0.000214, val acc: 99.679\n",
            "Epoch 46, train loss: 0.000204, val acc: 99.679\n",
            "Epoch 47, train loss: 0.000207, val acc: 99.714\n",
            "Epoch 48, train loss: 0.000200, val acc: 99.690\n",
            "Epoch 49, train loss: 0.000202, val acc: 99.690\n",
            "Epoch 50, train loss: 0.000196, val acc: 99.690\n",
            "Best accuracy: 99.71428571428571\n"
          ],
          "name": "stdout"
        }
      ]
    },
    {
      "cell_type": "code",
      "metadata": {
        "id": "6nGa9DhbOqKZ",
        "colab": {
          "base_uri": "https://localhost:8080/",
          "height": 279
        },
        "outputId": "d2588e0a-f7cc-4b1e-e5bb-0581c258334d"
      },
      "source": [
        "plt.plot(np.arange(1, n_epochs + 1), train_accuracies, label=\"training accuracy\")\r\n",
        "plt.plot(np.arange(1, n_epochs + 1), accuracies, label=\"validation accuracy\")\r\n",
        "plt.legend(loc=\"lower right\")\r\n",
        "plt.xlabel(\"epochs\")\r\n",
        "plt.ylabel(\"accuracy\")\r\n",
        "plt.show()"
      ],
      "execution_count": 29,
      "outputs": [
        {
          "output_type": "display_data",
          "data": {
            "image/png": "[encoded data removed]",
            "text/plain": [
              "<Figure size 432x288 with 1 Axes>"
            ]
          },
          "metadata": {
            "tags": [],
            "needs_background": "light"
          }
        }
      ]
    },
    {
      "cell_type": "markdown",
      "metadata": {
        "id": "tG5AYpDRtguz"
      },
      "source": [
        "Below code for saving the model and building the sample.csv file for Kaggle."
      ]
    },
    {
      "cell_type": "code",
      "metadata": {
        "colab": {
          "base_uri": "https://localhost:8080/"
        },
        "id": "RTS_wGIkFQ4W",
        "outputId": "2a45eb44-461f-4f34-fa8f-81b898fc83ee"
      },
      "source": [
        "# save the trained model\n",
        "torch.save(best_net_state, '/content/net.pth')\n",
        "best_net = Net()\n",
        "state_dict = torch.load('/content/net.pth')\n",
        "best_net.load_state_dict(state_dict)\n",
        "best_net.eval()\n",
        "best_net.cuda()"
      ],
      "execution_count": 30,
      "outputs": [
        {
          "output_type": "execute_result",
          "data": {
            "text/plain": [
              "Net(\n",
              "  (b1): ResBlock(\n",
              "    (conv1): Conv2d(1, 32, kernel_size=(3, 3), stride=(1, 1), padding=(1, 1))\n",
              "    (bn1): BatchNorm2d(32, eps=1e-05, momentum=0.1, affine=True, track_running_stats=True)\n",
              "    (relu): ReLU(inplace=True)\n",
              "    (bnId): BatchNorm2d(32, eps=1e-05, momentum=0.1, affine=True, track_running_stats=True)\n",
              "    (downsampler): Conv2d(1, 32, kernel_size=(1, 1), stride=(2, 2), bias=False)\n",
              "  )\n",
              "  (b12): ResBlock(\n",
              "    (conv1): Conv2d(32, 32, kernel_size=(3, 3), stride=(1, 1), padding=(1, 1))\n",
              "    (bn1): BatchNorm2d(32, eps=1e-05, momentum=0.1, affine=True, track_running_stats=True)\n",
              "    (relu): ReLU(inplace=True)\n",
              "    (bnId): BatchNorm2d(32, eps=1e-05, momentum=0.1, affine=True, track_running_stats=True)\n",
              "    (downsampler): Conv2d(32, 32, kernel_size=(1, 1), stride=(2, 2), bias=False)\n",
              "  )\n",
              "  (b2): ResBlock(\n",
              "    (conv1): Conv2d(32, 64, kernel_size=(3, 3), stride=(2, 2), padding=(1, 1))\n",
              "    (bn1): BatchNorm2d(64, eps=1e-05, momentum=0.1, affine=True, track_running_stats=True)\n",
              "    (relu): ReLU(inplace=True)\n",
              "    (bnId): BatchNorm2d(64, eps=1e-05, momentum=0.1, affine=True, track_running_stats=True)\n",
              "    (downsampler): Conv2d(32, 64, kernel_size=(1, 1), stride=(2, 2), bias=False)\n",
              "  )\n",
              "  (b22): ResBlock(\n",
              "    (conv1): Conv2d(64, 64, kernel_size=(3, 3), stride=(1, 1), padding=(1, 1))\n",
              "    (bn1): BatchNorm2d(64, eps=1e-05, momentum=0.1, affine=True, track_running_stats=True)\n",
              "    (relu): ReLU(inplace=True)\n",
              "    (bnId): BatchNorm2d(64, eps=1e-05, momentum=0.1, affine=True, track_running_stats=True)\n",
              "    (downsampler): Conv2d(64, 64, kernel_size=(1, 1), stride=(2, 2), bias=False)\n",
              "  )\n",
              "  (b23): ResBlock(\n",
              "    (conv1): Conv2d(64, 64, kernel_size=(3, 3), stride=(1, 1), padding=(1, 1))\n",
              "    (bn1): BatchNorm2d(64, eps=1e-05, momentum=0.1, affine=True, track_running_stats=True)\n",
              "    (relu): ReLU(inplace=True)\n",
              "    (bnId): BatchNorm2d(64, eps=1e-05, momentum=0.1, affine=True, track_running_stats=True)\n",
              "    (downsampler): Conv2d(64, 64, kernel_size=(1, 1), stride=(2, 2), bias=False)\n",
              "  )\n",
              "  (b24): ResBlock(\n",
              "    (conv1): Conv2d(64, 64, kernel_size=(3, 3), stride=(1, 1), padding=(1, 1))\n",
              "    (bn1): BatchNorm2d(64, eps=1e-05, momentum=0.1, affine=True, track_running_stats=True)\n",
              "    (relu): ReLU(inplace=True)\n",
              "    (bnId): BatchNorm2d(64, eps=1e-05, momentum=0.1, affine=True, track_running_stats=True)\n",
              "    (downsampler): Conv2d(64, 64, kernel_size=(1, 1), stride=(2, 2), bias=False)\n",
              "  )\n",
              "  (b25): ResBlock(\n",
              "    (conv1): Conv2d(64, 64, kernel_size=(3, 3), stride=(1, 1), padding=(1, 1))\n",
              "    (bn1): BatchNorm2d(64, eps=1e-05, momentum=0.1, affine=True, track_running_stats=True)\n",
              "    (relu): ReLU(inplace=True)\n",
              "    (bnId): BatchNorm2d(64, eps=1e-05, momentum=0.1, affine=True, track_running_stats=True)\n",
              "    (downsampler): Conv2d(64, 64, kernel_size=(1, 1), stride=(2, 2), bias=False)\n",
              "  )\n",
              "  (b26): ResBlock(\n",
              "    (conv1): Conv2d(64, 64, kernel_size=(3, 3), stride=(1, 1), padding=(1, 1))\n",
              "    (bn1): BatchNorm2d(64, eps=1e-05, momentum=0.1, affine=True, track_running_stats=True)\n",
              "    (relu): ReLU(inplace=True)\n",
              "    (bnId): BatchNorm2d(64, eps=1e-05, momentum=0.1, affine=True, track_running_stats=True)\n",
              "    (downsampler): Conv2d(64, 64, kernel_size=(1, 1), stride=(2, 2), bias=False)\n",
              "  )\n",
              "  (b3): ResBlock(\n",
              "    (conv1): Conv2d(64, 128, kernel_size=(3, 3), stride=(2, 2), padding=(1, 1))\n",
              "    (bn1): BatchNorm2d(128, eps=1e-05, momentum=0.1, affine=True, track_running_stats=True)\n",
              "    (relu): ReLU(inplace=True)\n",
              "    (bnId): BatchNorm2d(128, eps=1e-05, momentum=0.1, affine=True, track_running_stats=True)\n",
              "    (downsampler): Conv2d(64, 128, kernel_size=(1, 1), stride=(2, 2), bias=False)\n",
              "  )\n",
              "  (b32): ResBlock(\n",
              "    (conv1): Conv2d(128, 128, kernel_size=(3, 3), stride=(1, 1), padding=(1, 1))\n",
              "    (bn1): BatchNorm2d(128, eps=1e-05, momentum=0.1, affine=True, track_running_stats=True)\n",
              "    (relu): ReLU(inplace=True)\n",
              "    (bnId): BatchNorm2d(128, eps=1e-05, momentum=0.1, affine=True, track_running_stats=True)\n",
              "    (downsampler): Conv2d(128, 128, kernel_size=(1, 1), stride=(2, 2), bias=False)\n",
              "  )\n",
              "  (b33): ResBlock(\n",
              "    (conv1): Conv2d(128, 128, kernel_size=(3, 3), stride=(1, 1), padding=(1, 1))\n",
              "    (bn1): BatchNorm2d(128, eps=1e-05, momentum=0.1, affine=True, track_running_stats=True)\n",
              "    (relu): ReLU(inplace=True)\n",
              "    (bnId): BatchNorm2d(128, eps=1e-05, momentum=0.1, affine=True, track_running_stats=True)\n",
              "    (downsampler): Conv2d(128, 128, kernel_size=(1, 1), stride=(2, 2), bias=False)\n",
              "  )\n",
              "  (b34): ResBlock(\n",
              "    (conv1): Conv2d(128, 128, kernel_size=(3, 3), stride=(1, 1), padding=(1, 1))\n",
              "    (bn1): BatchNorm2d(128, eps=1e-05, momentum=0.1, affine=True, track_running_stats=True)\n",
              "    (relu): ReLU(inplace=True)\n",
              "    (bnId): BatchNorm2d(128, eps=1e-05, momentum=0.1, affine=True, track_running_stats=True)\n",
              "    (downsampler): Conv2d(128, 128, kernel_size=(1, 1), stride=(2, 2), bias=False)\n",
              "  )\n",
              "  (b35): ResBlock(\n",
              "    (conv1): Conv2d(128, 128, kernel_size=(3, 3), stride=(1, 1), padding=(1, 1))\n",
              "    (bn1): BatchNorm2d(128, eps=1e-05, momentum=0.1, affine=True, track_running_stats=True)\n",
              "    (relu): ReLU(inplace=True)\n",
              "    (bnId): BatchNorm2d(128, eps=1e-05, momentum=0.1, affine=True, track_running_stats=True)\n",
              "    (downsampler): Conv2d(128, 128, kernel_size=(1, 1), stride=(2, 2), bias=False)\n",
              "  )\n",
              "  (avg): AdaptiveAvgPool2d(output_size=(1, 1))\n",
              "  (fc): Linear(in_features=128, out_features=55, bias=True)\n",
              ")"
            ]
          },
          "metadata": {
            "tags": []
          },
          "execution_count": 30
        }
      ]
    },
    {
      "cell_type": "code",
      "metadata": {
        "id": "Ty4ufGXJ4QXP"
      },
      "source": [
        "predictions = []\n",
        "with torch.no_grad():\n",
        "    for batch in test_loader:\n",
        "        x = batch\n",
        "        x = x.cuda()\n",
        "        outputs = net(x)\n",
        "        y_hat = torch.argmax(outputs.view(-1, 5, 11), dim=-1).cpu()\n",
        "        predictions += y_hat.tolist()"
      ],
      "execution_count": 35,
      "outputs": []
    },
    {
      "cell_type": "code",
      "metadata": {
        "id": "s4l7bA1Z7R15"
      },
      "source": [
        "import pandas as pd\n",
        "predictions_formatted = []\n",
        "for pred in predictions:\n",
        "    pred_str = [str(i) for i in pred]\n",
        "    predictions_formatted.append(\"\".join(pred_str))"
      ],
      "execution_count": 36,
      "outputs": []
    },
    {
      "cell_type": "code",
      "metadata": {
        "colab": {
          "base_uri": "https://localhost:8080/"
        },
        "id": "3WfDf-ZbAIIA",
        "outputId": "102e70ac-dfab-4496-b989-5d45766d5e53"
      },
      "source": [
        "df = pd.DataFrame()\n",
        "df[\"Id\"] = np.arange(len(predictions_formatted))\n",
        "df[\"Label\"] = predictions_formatted\n",
        "print(df)\n",
        "df.to_csv(\"sample.csv\", index=False)"
      ],
      "execution_count": 37,
      "outputs": [
        {
          "output_type": "stream",
          "text": [
            "          Id      Label\n",
            "0          0  910101010\n",
            "1          1     017310\n",
            "2          2      14083\n",
            "3          3  010101010\n",
            "4          4     467810\n",
            "...      ...        ...\n",
            "13995  13995  110101010\n",
            "13996  13996     604110\n",
            "13997  13997  310101010\n",
            "13998  13998     419710\n",
            "13999  13999      58309\n",
            "\n",
            "[14000 rows x 2 columns]\n"
          ],
          "name": "stdout"
        }
      ]
    }
  ]
}